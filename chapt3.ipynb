{
 "cells": [
  {
   "cell_type": "code",
   "execution_count": 1,
   "metadata": {
    "collapsed": true
   },
   "outputs": [],
   "source": [
    "%matplotlib inline\n",
    "\n",
    "#plt.figure(figsize=(30,30))\n",
    "import matplotlib\n",
    "import numpy as np\n",
    "import matplotlib.pyplot as plt\n",
    "from scipy.stats import poisson"
   ]
  },
  {
   "cell_type": "code",
   "execution_count": 2,
   "metadata": {
    "collapsed": false
   },
   "outputs": [],
   "source": [
    "def getPR(req_mu, drp_mu):\n",
    "    P = [[0 for x in range(21)] for x in range(26)]\n",
    "    R = [0 for x in range(26)]\n",
    "    p_req = poisson.pmf(0, req_mu)\n",
    "    req = 0\n",
    "    while p_req > 0.00001:\n",
    "        for n in range(26):\n",
    "            R[n] = R[n] + 10 * p_req * min(n, req)\n",
    "        p_drp = poisson.pmf(0, drp_mu)\n",
    "        drp = 0\n",
    "        while p_drp > 0.00001:\n",
    "            for n in range(26):\n",
    "                satisfied_req = min(n, req)\n",
    "                next_n = min(20, drp + n - satisfied_req)\n",
    "                P[n][next_n] = P[n][next_n] + p_req*p_drp\n",
    "            drp += 1\n",
    "            p_drp = poisson.pmf(drp, drp_mu)\n",
    "        req += 1\n",
    "        p_req = poisson.pmf(req, req_mu)\n",
    "    return P,R"
   ]
  },
  {
   "cell_type": "code",
   "execution_count": 3,
   "metadata": {
    "collapsed": false
   },
   "outputs": [],
   "source": [
    "P1,R1 = getPR(3,3)\n",
    "P2,R2 = getPR(4,2)"
   ]
  },
  {
   "cell_type": "code",
   "execution_count": 4,
   "metadata": {
    "collapsed": false
   },
   "outputs": [],
   "source": [
    "gamma = 0.9\n",
    "def backup_action(n1, n2, a):\n",
    "    a = max(-n2, min(n1, a))\n",
    "    a = max(-5, min(5, a))\n",
    "    v = -2 * abs(a)\n",
    "    morning_n1 = n1 - a\n",
    "    morning_n2 = n2 + a\n",
    "    for new_n1 in range(21):\n",
    "        for new_n2 in range(21):\n",
    "            v = v + P1[morning_n1][new_n1] * P2[morning_n2][new_n2] * \\\n",
    "            (R1[morning_n1] + R2[morning_n2] + gamma * V[new_n1][new_n2])\n",
    "    return v"
   ]
  },
  {
   "cell_type": "code",
   "execution_count": 5,
   "metadata": {
    "collapsed": true
   },
   "outputs": [],
   "source": [
    "def policy(n1, n2):\n",
    "    best_value = -1\n",
    "    best_action = 0\n",
    "    for a in range(max(-5, -n2), min(n1, 5)+1):\n",
    "        v = backup_action(n1, n2, a)\n",
    "        if v > best_value + 0.0000001:\n",
    "            best_action = a\n",
    "            best_value = v\n",
    "    return best_action\n",
    "\n",
    "def policy_eval():\n",
    "    while True:\n",
    "        delta = 0\n",
    "        for n1 in range(21):\n",
    "            for n2 in range(21):\n",
    "                old_v = V[n1][n2]\n",
    "                a = Policy[n1][n2]\n",
    "                V[n1][n2] = backup_action(n1, n2, a)\n",
    "                delta = max(delta, abs(V[n1][n2] - old_v))\n",
    "        if delta < 0.0001:\n",
    "            return"
   ]
  },
  {
   "cell_type": "code",
   "execution_count": 6,
   "metadata": {
    "collapsed": false
   },
   "outputs": [],
   "source": [
    "def show_policy():\n",
    "    ac = np.zeros((20, 20))\n",
    "    for i in range(20):\n",
    "        for j in range(20):\n",
    "            ac[i,j] = Policy[i][j]\n",
    "    plt.subplot(1,1,1)\n",
    "    c = plt.pcolor(ac)\n",
    "    plt.colorbar()\n",
    "    plt.show()\n",
    "\n",
    "def improve():\n",
    "    improved = False\n",
    "    for n1 in range(21):\n",
    "        for n2 in range(21):\n",
    "            old = Policy[n1][n2]\n",
    "            Policy[n1][n2] = policy(n1, n2)\n",
    "            if old != Policy[n1][n2]:\n",
    "                improved = True\n",
    "    if improved:\n",
    "        show_policy()\n",
    "    return improved"
   ]
  },
  {
   "cell_type": "code",
   "execution_count": 7,
   "metadata": {
    "collapsed": false
   },
   "outputs": [
    {
     "data": {
      "image/png": "[encoded data removed]",
      "text/plain": [
       "<matplotlib.figure.Figure at 0x7f2074074f10>"
      ]
     },
     "metadata": {},
     "output_type": "display_data"
    },
    {
     "data": {
      "image/png": "[encoded data removed]",
      "text/plain": [
       "<matplotlib.figure.Figure at 0x7f2067c78d10>"
      ]
     },
     "metadata": {},
     "output_type": "display_data"
    },
    {
     "data": {
      "image/png": "[encoded data removed]",
      "text/plain": [
       "<matplotlib.figure.Figure at 0x7f2067aeaf50>"
      ]
     },
     "metadata": {},
     "output_type": "display_data"
    },
    {
     "data": {
      "image/png": "[encoded data removed]",
      "text/plain": [
       "<matplotlib.figure.Figure at 0x7f20679cec90>"
      ]
     },
     "metadata": {},
     "output_type": "display_data"
    },
    {
     "name": "stdout",
     "output_type": "stream",
     "text": [
      "final policy\n"
     ]
    },
    {
     "data": {
      "image/png": "[encoded data removed]",
      "text/plain": [
       "<matplotlib.figure.Figure at 0x7f2067828c50>"
      ]
     },
     "metadata": {},
     "output_type": "display_data"
    }
   ],
   "source": [
    "Policy = [[0 for x in range(21)] for x in range(21)]\n",
    "V = [[0 for x in range(21)] for x in range(21)]\n",
    "while True:\n",
    "    policy_eval()\n",
    "    if not improve():\n",
    "        break\n",
    "print \"final policy\"\n",
    "show_policy()\n",
    "    "
   ]
  }
 ],
 "metadata": {
  "kernelspec": {
   "display_name": "Python 2",
   "language": "python",
   "name": "python2"
  },
  "language_info": {
   "codemirror_mode": {
    "name": "ipython",
    "version": 2
   },
   "file_extension": ".py",
   "mimetype": "text/x-python",
   "name": "python",
   "nbconvert_exporter": "python",
   "pygments_lexer": "ipython2",
   "version": "2.7.10"
  }
 },
 "nbformat": 4,
 "nbformat_minor": 0
}
