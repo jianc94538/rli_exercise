{
 "cells": [
  {
   "cell_type": "code",
   "execution_count": 1,
   "metadata": {
    "collapsed": true
   },
   "outputs": [],
   "source": [
    "%matplotlib inline\n",
    "\n",
    "#plt.figure(figsize=(30,30))\n",
    "import matplotlib\n",
    "import numpy as np\n",
    "import matplotlib.pyplot as plt\n",
    "from scipy.stats import poisson"
   ]
  },
  {
   "cell_type": "code",
   "execution_count": 2,
   "metadata": {
    "collapsed": true
   },
   "outputs": [],
   "source": [
    "# Jack's car rental policy iteration\n"
   ]
  },
  {
   "cell_type": "code",
   "execution_count": 3,
   "metadata": {
    "collapsed": false
   },
   "outputs": [],
   "source": [
    "# step 2 Policy Evaluation\n",
    "def PR(c1, c2):\n",
    "    pssa = 0.0\n",
    "    rssa = 0.0\n",
    "    if c1 > c2:\n",
    "        for i in range(c2+1):\n",
    "            pi = poisson.pmf(c1-c2+i, dec_mu1) * poisson.pmf(i, inc_mu1)\n",
    "            pssa += pi\n",
    "            rssa += pi * (sale_reward*(c1-c2+i))\n",
    "    else:\n",
    "        for i in range(c1+1):\n",
    "            pi = poisson.pmf(i, dec_mu1) * poisson.pmf(c2-c1+i, inc_mu1)\n",
    "            pssa += pi\n",
    "            rssa += pi *(sale_reward*i)\n",
    "    return pssa, rssa\n",
    "\n",
    "def Q(s, a, s_next):\n",
    "    s_start = (s[0] - a, s[1] + a)\n",
    "    c1, c2 = s_start\n",
    "    c1n, c2n = s_next\n",
    "    pssa = 0.0\n",
    "    rssa = 0.0\n",
    "    #print c1, c2, c1n, c2n, value_s[s_next]\n",
    "    if (c1, c1n, a, 0) in Qcache:\n",
    "        pssa, rssa = Qcache[(c1, c1n, a, 0)]\n",
    "    else:\n",
    "        pssa, rssa = PR(c1, c1n)\n",
    "        Qcache[(c1, c1n, a, 0)] = (pssa, rssa)\n",
    "    \n",
    "    if (c2, c2n, a, 1) in Qcache:\n",
    "        p, r= Qcache[(c2, c2n, a, 1)]\n",
    "        pssa *= p\n",
    "        rssa += r\n",
    "    else:\n",
    "        p, r = PR(c2, c2n)\n",
    "        pssa *= p\n",
    "        rssa += r\n",
    "        Qcache[(c2, c2n, a, 1)] = (pssa, rssa)\n",
    "    ret = pssa *(rssa - drive_cost * abs(a) + discount * value_s[s_next])\n",
    "    return ret"
   ]
  },
  {
   "cell_type": "code",
   "execution_count": 4,
   "metadata": {
    "collapsed": false
   },
   "outputs": [],
   "source": [
    "def Qa(s, a):\n",
    "    qa = 0\n",
    "    for s_next in value_s:\n",
    "        qa += Q(s, a, s_next)\n",
    "    return qa"
   ]
  },
  {
   "cell_type": "code",
   "execution_count": 5,
   "metadata": {
    "collapsed": false
   },
   "outputs": [
    {
     "name": "stdout",
     "output_type": "stream",
     "text": [
      "count= 1  delta= 0.32709769569  max_s= (6, 9)\n",
      "count= 2  delta= 0.141377392564  max_s= (6, 9)\n",
      "count= 3  delta= 0.00040925795084  max_s= (6, 9)\n"
     ]
    }
   ],
   "source": [
    "def update(s):\n",
    "    acts = actions[s]\n",
    "    v = 0\n",
    "    Pa = 1.0/len(acts) # equiprobable\n",
    "    for a in acts:\n",
    "        v += Pa * Qa(s, a)\n",
    "    return v\n",
    "\n",
    "max_cars = 10\n",
    "max_change = 5\n",
    "sale_reward = 10\n",
    "drive_cost = 2\n",
    "dec_mu1 = 3\n",
    "inc_mu1 = 3\n",
    "dec_mu2 = 4\n",
    "inc_mu2 = 2\n",
    "value_s = {}\n",
    "discount = 0.9\n",
    "actions = {}\n",
    "for i in range(max_cars):\n",
    "    for j in range(max_cars):\n",
    "        value_s[(i,j)] = 0.09\n",
    "        # actions is to move from location 1 to location 2. negative means from 2 to 1.\n",
    "        actions[(i,j)] = [x for x in range(i, -j-1, -1) if x<=5 and x >=-5\n",
    "                          and i-x <= max_cars and -j-x >= -max_cars]\n",
    "Qcache = {}\n",
    "theta = 0.1\n",
    "delta = 1\n",
    "count = 0\n",
    "while (delta > theta):\n",
    "    delta = 0\n",
    "    count += 1\n",
    "    for s in value_s:\n",
    "        tmp = value_s[s]\n",
    "        value_s[s] = update(s)\n",
    "        if delta < abs(tmp - value_s[s]):\n",
    "            delta = abs(tmp - value_s[s])\n",
    "            max_s = s\n",
    "    print \"count=\", count, \" delta=\", delta, \" max_s=\", max_s\n",
    "        "
   ]
  },
  {
   "cell_type": "code",
   "execution_count": null,
   "metadata": {
    "collapsed": true
   },
   "outputs": [],
   "source": []
  }
 ],
 "metadata": {
  "kernelspec": {
   "display_name": "Python 2",
   "language": "python",
   "name": "python2"
  },
  "language_info": {
   "codemirror_mode": {
    "name": "ipython",
    "version": 2
   },
   "file_extension": ".py",
   "mimetype": "text/x-python",
   "name": "python",
   "nbconvert_exporter": "python",
   "pygments_lexer": "ipython2",
   "version": "2.7.10"
  }
 },
 "nbformat": 4,
 "nbformat_minor": 0
}
